{
 "metadata": {
  "name": "",
  "signature": "sha256:c4c0877a7fd0627da737cb757d16fedcb8629aba08a0c54381856ec77df8dc44"
 },
 "nbformat": 3,
 "nbformat_minor": 0,
 "worksheets": [
  {
   "cells": [
    {
     "cell_type": "code",
     "collapsed": false,
     "input": [
      "import pandas as pd\n",
      "import numpy as np\n",
      "serie = pd.Series(np.arange(20,30))\n",
      "serie"
     ],
     "language": "python",
     "metadata": {},
     "outputs": [
      {
       "metadata": {},
       "output_type": "pyout",
       "prompt_number": 2,
       "text": [
        "0    20\n",
        "1    21\n",
        "2    22\n",
        "3    23\n",
        "4    24\n",
        "5    25\n",
        "6    26\n",
        "7    27\n",
        "8    28\n",
        "9    29\n",
        "dtype: int64"
       ]
      }
     ],
     "prompt_number": 2
    },
    {
     "cell_type": "code",
     "collapsed": false,
     "input": [
      "import matplotlib.pyplot as plt\n",
      "%matplotlib inline\n",
      "serie.plot()"
     ],
     "language": "python",
     "metadata": {},
     "outputs": [
      {
       "metadata": {},
       "output_type": "pyout",
       "prompt_number": 3,
       "text": [
        "<matplotlib.axes.AxesSubplot at 0x1075a6f50>"
       ]
      },
      {
       "metadata": {},
       "output_type": "display_data",
       "png": "[encoded data removed]",
       "text": [
        "<matplotlib.figure.Figure at 0x1075a6910>"
       ]
      }
     ],
     "prompt_number": 3
    },
    {
     "cell_type": "code",
     "collapsed": false,
     "input": [
      "ts = pd.read_csv(\"Gold.csv\", index_col=0, parse_dates=True)\n",
      "ts.plot()"
     ],
     "language": "python",
     "metadata": {},
     "outputs": [
      {
       "metadata": {},
       "output_type": "pyout",
       "prompt_number": 8,
       "text": [
        "<matplotlib.axes.AxesSubplot at 0x107c14a90>"
       ]
      },
      {
       "metadata": {},
       "output_type": "display_data",
       "png": "[encoded data removed]",
       "text": [
        "<matplotlib.figure.Figure at 0x107c80610>"
       ]
      }
     ],
     "prompt_number": 8
    },
    {
     "cell_type": "code",
     "collapsed": false,
     "input": [
      "print ts.head()\n",
      "print ts.tail()"
     ],
     "language": "python",
     "metadata": {},
     "outputs": [
      {
       "output_type": "stream",
       "stream": "stdout",
       "text": [
        "            price\n",
        "date             \n",
        "2003-01-31  367.5\n",
        "2003-02-28  347.5\n",
        "2003-03-31  334.9\n",
        "2003-04-30  336.8\n",
        "2003-05-30  361.4\n",
        "             price\n",
        "date              \n",
        "2013-01-31  1664.8\n",
        "2013-02-28  1588.5\n",
        "2013-03-29  1598.3\n",
        "2013-04-30  1469.0\n",
        "2013-05-31  1394.5\n"
       ]
      }
     ],
     "prompt_number": 10
    },
    {
     "cell_type": "code",
     "collapsed": false,
     "input": [
      "ts.describe()"
     ],
     "language": "python",
     "metadata": {},
     "outputs": [
      {
       "html": [
        "<div style=\"max-height:1000px;max-width:1500px;overflow:auto;\">\n",
        "<table border=\"1\" class=\"dataframe\">\n",
        "  <thead>\n",
        "    <tr style=\"text-align: right;\">\n",
        "      <th></th>\n",
        "      <th>price</th>\n",
        "    </tr>\n",
        "  </thead>\n",
        "  <tbody>\n",
        "    <tr>\n",
        "      <th>count</th>\n",
        "      <td>  125.000000</td>\n",
        "    </tr>\n",
        "    <tr>\n",
        "      <th>mean</th>\n",
        "      <td>  914.626400</td>\n",
        "    </tr>\n",
        "    <tr>\n",
        "      <th>std</th>\n",
        "      <td>  465.694703</td>\n",
        "    </tr>\n",
        "    <tr>\n",
        "      <th>min</th>\n",
        "      <td>  334.900000</td>\n",
        "    </tr>\n",
        "    <tr>\n",
        "      <th>25%</th>\n",
        "      <td>  453.400000</td>\n",
        "    </tr>\n",
        "    <tr>\n",
        "      <th>50%</th>\n",
        "      <td>  833.800000</td>\n",
        "    </tr>\n",
        "    <tr>\n",
        "      <th>75%</th>\n",
        "      <td> 1327.000000</td>\n",
        "    </tr>\n",
        "    <tr>\n",
        "      <th>max</th>\n",
        "      <td> 1813.500000</td>\n",
        "    </tr>\n",
        "  </tbody>\n",
        "</table>\n",
        "</div>"
       ],
       "metadata": {},
       "output_type": "pyout",
       "prompt_number": 11,
       "text": [
        "             price\n",
        "count   125.000000\n",
        "mean    914.626400\n",
        "std     465.694703\n",
        "min     334.900000\n",
        "25%     453.400000\n",
        "50%     833.800000\n",
        "75%    1327.000000\n",
        "max    1813.500000"
       ]
      }
     ],
     "prompt_number": 11
    },
    {
     "cell_type": "code",
     "collapsed": false,
     "input": [
      "ts.std()"
     ],
     "language": "python",
     "metadata": {},
     "outputs": [
      {
       "metadata": {},
       "output_type": "pyout",
       "prompt_number": 12,
       "text": [
        "price    465.694703\n",
        "dtype: float64"
       ]
      }
     ],
     "prompt_number": 12
    },
    {
     "cell_type": "code",
     "collapsed": false,
     "input": [
      "ts[\"2010\":\"2012\"].plot()"
     ],
     "language": "python",
     "metadata": {},
     "outputs": [
      {
       "metadata": {},
       "output_type": "pyout",
       "prompt_number": 14,
       "text": [
        "<matplotlib.axes.AxesSubplot at 0x107f26a10>"
       ]
      },
      {
       "metadata": {},
       "output_type": "display_data",
       "png": "[encoded data removed]",
       "text": [
        "<matplotlib.figure.Figure at 0x107f70cd0>"
       ]
      }
     ],
     "prompt_number": 14
    },
    {
     "cell_type": "code",
     "collapsed": false,
     "input": [
      "muestra = ts.resample(\"A\")\n",
      "muestra"
     ],
     "language": "python",
     "metadata": {},
     "outputs": [
      {
       "html": [
        "<div style=\"max-height:1000px;max-width:1500px;overflow:auto;\">\n",
        "<table border=\"1\" class=\"dataframe\">\n",
        "  <thead>\n",
        "    <tr style=\"text-align: right;\">\n",
        "      <th></th>\n",
        "      <th>price</th>\n",
        "    </tr>\n",
        "    <tr>\n",
        "      <th>date</th>\n",
        "      <th></th>\n",
        "    </tr>\n",
        "  </thead>\n",
        "  <tbody>\n",
        "    <tr>\n",
        "      <th>2003-12-31</th>\n",
        "      <td>  367.791667</td>\n",
        "    </tr>\n",
        "    <tr>\n",
        "      <th>2004-12-31</th>\n",
        "      <td>  410.500000</td>\n",
        "    </tr>\n",
        "    <tr>\n",
        "      <th>2005-12-31</th>\n",
        "      <td>  448.966667</td>\n",
        "    </tr>\n",
        "    <tr>\n",
        "      <th>2006-12-31</th>\n",
        "      <td>  612.925000</td>\n",
        "    </tr>\n",
        "    <tr>\n",
        "      <th>2007-12-31</th>\n",
        "      <td>  704.200000</td>\n",
        "    </tr>\n",
        "    <tr>\n",
        "      <th>2008-12-31</th>\n",
        "      <td>  880.500000</td>\n",
        "    </tr>\n",
        "    <tr>\n",
        "      <th>2009-12-31</th>\n",
        "      <td>  981.241667</td>\n",
        "    </tr>\n",
        "    <tr>\n",
        "      <th>2010-12-31</th>\n",
        "      <td> 1232.575000</td>\n",
        "    </tr>\n",
        "    <tr>\n",
        "      <th>2011-12-31</th>\n",
        "      <td> 1567.958333</td>\n",
        "    </tr>\n",
        "    <tr>\n",
        "      <th>2012-12-31</th>\n",
        "      <td> 1677.775000</td>\n",
        "    </tr>\n",
        "    <tr>\n",
        "      <th>2013-12-31</th>\n",
        "      <td> 1543.020000</td>\n",
        "    </tr>\n",
        "  </tbody>\n",
        "</table>\n",
        "</div>"
       ],
       "metadata": {},
       "output_type": "pyout",
       "prompt_number": 15,
       "text": [
        "                  price\n",
        "date                   \n",
        "2003-12-31   367.791667\n",
        "2004-12-31   410.500000\n",
        "2005-12-31   448.966667\n",
        "2006-12-31   612.925000\n",
        "2007-12-31   704.200000\n",
        "2008-12-31   880.500000\n",
        "2009-12-31   981.241667\n",
        "2010-12-31  1232.575000\n",
        "2011-12-31  1567.958333\n",
        "2012-12-31  1677.775000\n",
        "2013-12-31  1543.020000"
       ]
      }
     ],
     "prompt_number": 15
    },
    {
     "cell_type": "code",
     "collapsed": false,
     "input": [
      "muestra.plot(style = \"r--\")"
     ],
     "language": "python",
     "metadata": {},
     "outputs": [
      {
       "metadata": {},
       "output_type": "pyout",
       "prompt_number": 18,
       "text": [
        "<matplotlib.axes.AxesSubplot at 0x1085e7ed0>"
       ]
      },
      {
       "metadata": {},
       "output_type": "display_data",
       "png": "[encoded data removed]",
       "text": [
        "<matplotlib.figure.Figure at 0x1085e0a90>"
       ]
      }
     ],
     "prompt_number": 18
    },
    {
     "cell_type": "code",
     "collapsed": false,
     "input": [
      "muestra2 = ts.resample(\"A\", how=[\"mean\", np.max, np.min])\n",
      "muestra2.plot()"
     ],
     "language": "python",
     "metadata": {},
     "outputs": [
      {
       "metadata": {},
       "output_type": "pyout",
       "prompt_number": 20,
       "text": [
        "<matplotlib.axes.AxesSubplot at 0x10886eb10>"
       ]
      },
      {
       "metadata": {},
       "output_type": "display_data",
       "png": "[encoded data removed]",
       "text": [
        "<matplotlib.figure.Figure at 0x108890e90>"
       ]
      }
     ],
     "prompt_number": 20
    },
    {
     "cell_type": "code",
     "collapsed": false,
     "input": [
      "muestra2.plot(subplots=True)"
     ],
     "language": "python",
     "metadata": {},
     "outputs": [
      {
       "metadata": {},
       "output_type": "pyout",
       "prompt_number": 21,
       "text": [
        "array([<matplotlib.axes.AxesSubplot object at 0x108842950>,\n",
        "       <matplotlib.axes.AxesSubplot object at 0x108ad90d0>,\n",
        "       <matplotlib.axes.AxesSubplot object at 0x108b4ce90>], dtype=object)"
       ]
      },
      {
       "metadata": {},
       "output_type": "display_data",
       "png": "[encoded data removed]",
       "text": [
        "<matplotlib.figure.Figure at 0x108867b90>"
       ]
      }
     ],
     "prompt_number": 21
    },
    {
     "cell_type": "code",
     "collapsed": false,
     "input": [
      "mts = pd.read_csv(\"multiLine.csv\", index_col=0, parse_dates=True)\n",
      "mts.head()"
     ],
     "language": "python",
     "metadata": {},
     "outputs": [
      {
       "html": [
        "<div style=\"max-height:1000px;max-width:1500px;overflow:auto;\">\n",
        "<table border=\"1\" class=\"dataframe\">\n",
        "  <thead>\n",
        "    <tr style=\"text-align: right;\">\n",
        "      <th></th>\n",
        "      <th>USD</th>\n",
        "      <th>EUR</th>\n",
        "      <th>GBP</th>\n",
        "    </tr>\n",
        "    <tr>\n",
        "      <th>date</th>\n",
        "      <th></th>\n",
        "      <th></th>\n",
        "      <th></th>\n",
        "    </tr>\n",
        "  </thead>\n",
        "  <tbody>\n",
        "    <tr>\n",
        "      <th>2013-03-10</th>\n",
        "      <td> 1.0284</td>\n",
        "      <td> 0.7675</td>\n",
        "      <td> 0.6651</td>\n",
        "    </tr>\n",
        "    <tr>\n",
        "      <th>2013-03-03</th>\n",
        "      <td> 1.0254</td>\n",
        "      <td> 0.7630</td>\n",
        "      <td> 0.6609</td>\n",
        "    </tr>\n",
        "    <tr>\n",
        "      <th>2013-02-24</th>\n",
        "      <td> 1.0140</td>\n",
        "      <td> 0.7521</td>\n",
        "      <td> 0.6512</td>\n",
        "    </tr>\n",
        "    <tr>\n",
        "      <th>2013-02-17</th>\n",
        "      <td> 1.0035</td>\n",
        "      <td> 0.7468</td>\n",
        "      <td> 0.6402</td>\n",
        "    </tr>\n",
        "    <tr>\n",
        "      <th>2013-02-10</th>\n",
        "      <td> 0.9979</td>\n",
        "      <td> 0.7402</td>\n",
        "      <td> 0.6361</td>\n",
        "    </tr>\n",
        "  </tbody>\n",
        "</table>\n",
        "</div>"
       ],
       "metadata": {},
       "output_type": "pyout",
       "prompt_number": 22,
       "text": [
        "               USD     EUR     GBP\n",
        "date                              \n",
        "2013-03-10  1.0284  0.7675  0.6651\n",
        "2013-03-03  1.0254  0.7630  0.6609\n",
        "2013-02-24  1.0140  0.7521  0.6512\n",
        "2013-02-17  1.0035  0.7468  0.6402\n",
        "2013-02-10  0.9979  0.7402  0.6361"
       ]
      }
     ],
     "prompt_number": 22
    },
    {
     "cell_type": "code",
     "collapsed": false,
     "input": [
      "mts.plot()"
     ],
     "language": "python",
     "metadata": {},
     "outputs": [
      {
       "metadata": {},
       "output_type": "pyout",
       "prompt_number": 23,
       "text": [
        "<matplotlib.axes.AxesSubplot at 0x108f1f950>"
       ]
      },
      {
       "metadata": {},
       "output_type": "display_data",
       "png": "[encoded data removed]",
       "text": [
        "<matplotlib.figure.Figure at 0x108f3f450>"
       ]
      }
     ],
     "prompt_number": 23
    },
    {
     "cell_type": "code",
     "collapsed": false,
     "input": [
      "mts.corr()"
     ],
     "language": "python",
     "metadata": {},
     "outputs": [
      {
       "html": [
        "<div style=\"max-height:1000px;max-width:1500px;overflow:auto;\">\n",
        "<table border=\"1\" class=\"dataframe\">\n",
        "  <thead>\n",
        "    <tr style=\"text-align: right;\">\n",
        "      <th></th>\n",
        "      <th>USD</th>\n",
        "      <th>EUR</th>\n",
        "      <th>GBP</th>\n",
        "    </tr>\n",
        "  </thead>\n",
        "  <tbody>\n",
        "    <tr>\n",
        "      <th>USD</th>\n",
        "      <td> 1.000000</td>\n",
        "      <td> 0.160608</td>\n",
        "      <td> 0.371445</td>\n",
        "    </tr>\n",
        "    <tr>\n",
        "      <th>EUR</th>\n",
        "      <td> 0.160608</td>\n",
        "      <td> 1.000000</td>\n",
        "      <td> 0.771165</td>\n",
        "    </tr>\n",
        "    <tr>\n",
        "      <th>GBP</th>\n",
        "      <td> 0.371445</td>\n",
        "      <td> 0.771165</td>\n",
        "      <td> 1.000000</td>\n",
        "    </tr>\n",
        "  </tbody>\n",
        "</table>\n",
        "</div>"
       ],
       "metadata": {},
       "output_type": "pyout",
       "prompt_number": 24,
       "text": [
        "          USD       EUR       GBP\n",
        "USD  1.000000  0.160608  0.371445\n",
        "EUR  0.160608  1.000000  0.771165\n",
        "GBP  0.371445  0.771165  1.000000"
       ]
      }
     ],
     "prompt_number": 24
    },
    {
     "cell_type": "code",
     "collapsed": false,
     "input": [
      "mts[:11]"
     ],
     "language": "python",
     "metadata": {},
     "outputs": [
      {
       "html": [
        "<div style=\"max-height:1000px;max-width:1500px;overflow:auto;\">\n",
        "<table border=\"1\" class=\"dataframe\">\n",
        "  <thead>\n",
        "    <tr style=\"text-align: right;\">\n",
        "      <th></th>\n",
        "      <th>USD</th>\n",
        "      <th>EUR</th>\n",
        "      <th>GBP</th>\n",
        "    </tr>\n",
        "    <tr>\n",
        "      <th>date</th>\n",
        "      <th></th>\n",
        "      <th></th>\n",
        "      <th></th>\n",
        "    </tr>\n",
        "  </thead>\n",
        "  <tbody>\n",
        "    <tr>\n",
        "      <th>2013-03-10</th>\n",
        "      <td> 1.0284</td>\n",
        "      <td> 0.7675</td>\n",
        "      <td> 0.6651</td>\n",
        "    </tr>\n",
        "    <tr>\n",
        "      <th>2013-03-03</th>\n",
        "      <td> 1.0254</td>\n",
        "      <td> 0.7630</td>\n",
        "      <td> 0.6609</td>\n",
        "    </tr>\n",
        "    <tr>\n",
        "      <th>2013-02-24</th>\n",
        "      <td> 1.0140</td>\n",
        "      <td> 0.7521</td>\n",
        "      <td> 0.6512</td>\n",
        "    </tr>\n",
        "    <tr>\n",
        "      <th>2013-02-17</th>\n",
        "      <td> 1.0035</td>\n",
        "      <td> 0.7468</td>\n",
        "      <td> 0.6402</td>\n",
        "    </tr>\n",
        "    <tr>\n",
        "      <th>2013-02-10</th>\n",
        "      <td> 0.9979</td>\n",
        "      <td> 0.7402</td>\n",
        "      <td> 0.6361</td>\n",
        "    </tr>\n",
        "    <tr>\n",
        "      <th>2013-02-03</th>\n",
        "      <td> 1.0023</td>\n",
        "      <td> 0.7388</td>\n",
        "      <td> 0.6342</td>\n",
        "    </tr>\n",
        "    <tr>\n",
        "      <th>2013-01-27</th>\n",
        "      <td> 0.9973</td>\n",
        "      <td> 0.7488</td>\n",
        "      <td> 0.6315</td>\n",
        "    </tr>\n",
        "    <tr>\n",
        "      <th>2013-01-20</th>\n",
        "      <td> 0.9864</td>\n",
        "      <td> 0.7498</td>\n",
        "      <td> 0.6241</td>\n",
        "    </tr>\n",
        "    <tr>\n",
        "      <th>2013-01-13</th>\n",
        "      <td> 0.9859</td>\n",
        "      <td> 0.7604</td>\n",
        "      <td> 0.6217</td>\n",
        "    </tr>\n",
        "    <tr>\n",
        "      <th>2013-01-06</th>\n",
        "      <td> 0.9907</td>\n",
        "      <td> 0.7601</td>\n",
        "      <td> 0.6183</td>\n",
        "    </tr>\n",
        "    <tr>\n",
        "      <th>2012-12-30</th>\n",
        "      <td> 0.9934</td>\n",
        "      <td> 0.7571</td>\n",
        "      <td> 0.6193</td>\n",
        "    </tr>\n",
        "  </tbody>\n",
        "</table>\n",
        "</div>"
       ],
       "metadata": {},
       "output_type": "pyout",
       "prompt_number": 26,
       "text": [
        "               USD     EUR     GBP\n",
        "date                              \n",
        "2013-03-10  1.0284  0.7675  0.6651\n",
        "2013-03-03  1.0254  0.7630  0.6609\n",
        "2013-02-24  1.0140  0.7521  0.6512\n",
        "2013-02-17  1.0035  0.7468  0.6402\n",
        "2013-02-10  0.9979  0.7402  0.6361\n",
        "2013-02-03  1.0023  0.7388  0.6342\n",
        "2013-01-27  0.9973  0.7488  0.6315\n",
        "2013-01-20  0.9864  0.7498  0.6241\n",
        "2013-01-13  0.9859  0.7604  0.6217\n",
        "2013-01-06  0.9907  0.7601  0.6183\n",
        "2012-12-30  0.9934  0.7571  0.6193"
       ]
      }
     ],
     "prompt_number": 26
    },
    {
     "cell_type": "code",
     "collapsed": false,
     "input": [
      "print np.tan(ts[:5])\n",
      "print ts[:5]"
     ],
     "language": "python",
     "metadata": {},
     "outputs": [
      {
       "output_type": "stream",
       "stream": "stdout",
       "text": [
        "               price\n",
        "date                \n",
        "2003-01-31 -0.066438\n",
        "2003-02-28 -2.705763\n",
        "2003-03-31 -3.013738\n",
        "2003-04-30  0.759551\n",
        "2003-05-30  0.117380\n",
        "            price\n",
        "date             \n",
        "2003-01-31  367.5\n",
        "2003-02-28  347.5\n",
        "2003-03-31  334.9\n",
        "2003-04-30  336.8\n",
        "2003-05-30  361.4\n"
       ]
      }
     ],
     "prompt_number": 29
    },
    {
     "cell_type": "code",
     "collapsed": false,
     "input": [
      "print mts[\"EUR\"][:10]"
     ],
     "language": "python",
     "metadata": {},
     "outputs": [
      {
       "output_type": "stream",
       "stream": "stdout",
       "text": [
        "date\n",
        "2013-03-10    0.7675\n",
        "2013-03-03    0.7630\n",
        "2013-02-24    0.7521\n",
        "2013-02-17    0.7468\n",
        "2013-02-10    0.7402\n",
        "2013-02-03    0.7388\n",
        "2013-01-27    0.7488\n",
        "2013-01-20    0.7498\n",
        "2013-01-13    0.7604\n",
        "2013-01-06    0.7601\n",
        "Name: EUR, dtype: float64\n"
       ]
      }
     ],
     "prompt_number": 32
    },
    {
     "cell_type": "code",
     "collapsed": false,
     "input": [
      "print np.tan(mts[\"EUR\"][:10])"
     ],
     "language": "python",
     "metadata": {},
     "outputs": [
      {
       "output_type": "stream",
       "stream": "stdout",
       "text": [
        "date\n",
        "2013-03-10    0.964829\n",
        "2013-03-03    0.956178\n",
        "2013-02-24    0.935527\n",
        "2013-02-17    0.925637\n",
        "2013-02-10    0.913456\n",
        "2013-02-03    0.910891\n",
        "2013-01-27    0.929358\n",
        "2013-01-20    0.931223\n",
        "2013-01-13    0.951213\n",
        "2013-01-06    0.950642\n",
        "Name: EUR, dtype: float64\n"
       ]
      }
     ],
     "prompt_number": 33
    },
    {
     "cell_type": "code",
     "collapsed": false,
     "input": [
      "mts.query(\"USD < 1 and EUR > 0.8\")"
     ],
     "language": "python",
     "metadata": {},
     "outputs": [
      {
       "html": [
        "<div style=\"max-height:1000px;max-width:1500px;overflow:auto;\">\n",
        "<table border=\"1\" class=\"dataframe\">\n",
        "  <thead>\n",
        "    <tr style=\"text-align: right;\">\n",
        "      <th></th>\n",
        "      <th>USD</th>\n",
        "      <th>EUR</th>\n",
        "      <th>GBP</th>\n",
        "    </tr>\n",
        "    <tr>\n",
        "      <th>date</th>\n",
        "      <th></th>\n",
        "      <th></th>\n",
        "      <th></th>\n",
        "    </tr>\n",
        "  </thead>\n",
        "  <tbody>\n",
        "    <tr>\n",
        "      <th>2012-08-26</th>\n",
        "      <td> 0.9903</td>\n",
        "      <td> 0.8032</td>\n",
        "      <td> 0.6336</td>\n",
        "    </tr>\n",
        "    <tr>\n",
        "      <th>2012-08-19</th>\n",
        "      <td> 0.9902</td>\n",
        "      <td> 0.8116</td>\n",
        "      <td> 0.6372</td>\n",
        "    </tr>\n",
        "    <tr>\n",
        "      <th>2012-08-12</th>\n",
        "      <td> 0.9962</td>\n",
        "      <td> 0.8095</td>\n",
        "      <td> 0.6394</td>\n",
        "    </tr>\n",
        "  </tbody>\n",
        "</table>\n",
        "</div>"
       ],
       "metadata": {},
       "output_type": "pyout",
       "prompt_number": 39,
       "text": [
        "               USD     EUR     GBP\n",
        "date                              \n",
        "2012-08-26  0.9903  0.8032  0.6336\n",
        "2012-08-19  0.9902  0.8116  0.6372\n",
        "2012-08-12  0.9962  0.8095  0.6394"
       ]
      }
     ],
     "prompt_number": 39
    },
    {
     "cell_type": "code",
     "collapsed": false,
     "input": [
      "mts[(mts.USD < 1)&(mts.EUR > 0.8)]"
     ],
     "language": "python",
     "metadata": {},
     "outputs": [
      {
       "html": [
        "<div style=\"max-height:1000px;max-width:1500px;overflow:auto;\">\n",
        "<table border=\"1\" class=\"dataframe\">\n",
        "  <thead>\n",
        "    <tr style=\"text-align: right;\">\n",
        "      <th></th>\n",
        "      <th>USD</th>\n",
        "      <th>EUR</th>\n",
        "      <th>GBP</th>\n",
        "    </tr>\n",
        "    <tr>\n",
        "      <th>date</th>\n",
        "      <th></th>\n",
        "      <th></th>\n",
        "      <th></th>\n",
        "    </tr>\n",
        "  </thead>\n",
        "  <tbody>\n",
        "    <tr>\n",
        "      <th>2012-08-26</th>\n",
        "      <td> 0.9903</td>\n",
        "      <td> 0.8032</td>\n",
        "      <td> 0.6336</td>\n",
        "    </tr>\n",
        "    <tr>\n",
        "      <th>2012-08-19</th>\n",
        "      <td> 0.9902</td>\n",
        "      <td> 0.8116</td>\n",
        "      <td> 0.6372</td>\n",
        "    </tr>\n",
        "    <tr>\n",
        "      <th>2012-08-12</th>\n",
        "      <td> 0.9962</td>\n",
        "      <td> 0.8095</td>\n",
        "      <td> 0.6394</td>\n",
        "    </tr>\n",
        "  </tbody>\n",
        "</table>\n",
        "</div>"
       ],
       "metadata": {},
       "output_type": "pyout",
       "prompt_number": 41,
       "text": [
        "               USD     EUR     GBP\n",
        "date                              \n",
        "2012-08-26  0.9903  0.8032  0.6336\n",
        "2012-08-19  0.9902  0.8116  0.6372\n",
        "2012-08-12  0.9962  0.8095  0.6394"
       ]
      }
     ],
     "prompt_number": 41
    },
    {
     "cell_type": "code",
     "collapsed": false,
     "input": [
      "mts.duplicated([\"USD\",\"EUR\"])"
     ],
     "language": "python",
     "metadata": {},
     "outputs": [
      {
       "metadata": {},
       "output_type": "pyout",
       "prompt_number": 42,
       "text": [
        "date\n",
        "2013-03-10    False\n",
        "2013-03-03    False\n",
        "2013-02-24    False\n",
        "2013-02-17    False\n",
        "2013-02-10    False\n",
        "2013-02-03    False\n",
        "2013-01-27    False\n",
        "2013-01-20    False\n",
        "2013-01-13    False\n",
        "2013-01-06    False\n",
        "2012-12-30    False\n",
        "2012-12-23    False\n",
        "2012-12-16    False\n",
        "2012-12-09    False\n",
        "2012-12-02    False\n",
        "...\n",
        "2008-06-29    False\n",
        "2008-06-22    False\n",
        "2008-06-15    False\n",
        "2008-06-08    False\n",
        "2008-06-01    False\n",
        "2008-05-25    False\n",
        "2008-05-18    False\n",
        "2008-05-11    False\n",
        "2008-05-04    False\n",
        "2008-04-27    False\n",
        "2008-04-20    False\n",
        "2008-04-13    False\n",
        "2008-04-06    False\n",
        "2008-03-30    False\n",
        "2008-03-23    False\n",
        "Length: 260"
       ]
      }
     ],
     "prompt_number": 42
    },
    {
     "cell_type": "code",
     "collapsed": false,
     "input": [
      "ts[(ts.index.month == 4)]"
     ],
     "language": "python",
     "metadata": {},
     "outputs": [
      {
       "html": [
        "<div style=\"max-height:1000px;max-width:1500px;overflow:auto;\">\n",
        "<table border=\"1\" class=\"dataframe\">\n",
        "  <thead>\n",
        "    <tr style=\"text-align: right;\">\n",
        "      <th></th>\n",
        "      <th>price</th>\n",
        "    </tr>\n",
        "    <tr>\n",
        "      <th>date</th>\n",
        "      <th></th>\n",
        "    </tr>\n",
        "  </thead>\n",
        "  <tbody>\n",
        "    <tr>\n",
        "      <th>2003-04-30</th>\n",
        "      <td>  336.8</td>\n",
        "    </tr>\n",
        "    <tr>\n",
        "      <th>2004-04-30</th>\n",
        "      <td>  388.5</td>\n",
        "    </tr>\n",
        "    <tr>\n",
        "      <th>2005-04-29</th>\n",
        "      <td>  435.7</td>\n",
        "    </tr>\n",
        "    <tr>\n",
        "      <th>2006-04-28</th>\n",
        "      <td>  644.0</td>\n",
        "    </tr>\n",
        "    <tr>\n",
        "      <th>2007-04-30</th>\n",
        "      <td>  677.0</td>\n",
        "    </tr>\n",
        "    <tr>\n",
        "      <th>2008-04-30</th>\n",
        "      <td>  871.0</td>\n",
        "    </tr>\n",
        "    <tr>\n",
        "      <th>2009-04-30</th>\n",
        "      <td>  883.3</td>\n",
        "    </tr>\n",
        "    <tr>\n",
        "      <th>2010-04-30</th>\n",
        "      <td> 1179.3</td>\n",
        "    </tr>\n",
        "    <tr>\n",
        "      <th>2011-04-29</th>\n",
        "      <td> 1535.5</td>\n",
        "    </tr>\n",
        "    <tr>\n",
        "      <th>2012-04-30</th>\n",
        "      <td> 1651.3</td>\n",
        "    </tr>\n",
        "    <tr>\n",
        "      <th>2013-04-30</th>\n",
        "      <td> 1469.0</td>\n",
        "    </tr>\n",
        "  </tbody>\n",
        "</table>\n",
        "</div>"
       ],
       "metadata": {},
       "output_type": "pyout",
       "prompt_number": 46,
       "text": [
        "             price\n",
        "date              \n",
        "2003-04-30   336.8\n",
        "2004-04-30   388.5\n",
        "2005-04-29   435.7\n",
        "2006-04-28   644.0\n",
        "2007-04-30   677.0\n",
        "2008-04-30   871.0\n",
        "2009-04-30   883.3\n",
        "2010-04-30  1179.3\n",
        "2011-04-29  1535.5\n",
        "2012-04-30  1651.3\n",
        "2013-04-30  1469.0"
       ]
      }
     ],
     "prompt_number": 46
    },
    {
     "cell_type": "code",
     "collapsed": false,
     "input": [
      "fun = lambda x: x.max() - x.min()\n",
      "ts.apply(fun)"
     ],
     "language": "python",
     "metadata": {},
     "outputs": [
      {
       "metadata": {},
       "output_type": "pyout",
       "prompt_number": 47,
       "text": [
        "price    1478.6\n",
        "dtype: float64"
       ]
      }
     ],
     "prompt_number": 47
    },
    {
     "cell_type": "code",
     "collapsed": false,
     "input": [
      "plt.pie(pd.DataFrame([2,3,5,6]))"
     ],
     "language": "python",
     "metadata": {},
     "outputs": [
      {
       "metadata": {},
       "output_type": "pyout",
       "prompt_number": 48,
       "text": [
        "([<matplotlib.patches.Wedge at 0x109424310>,\n",
        "  <matplotlib.patches.Wedge at 0x109424c90>,\n",
        "  <matplotlib.patches.Wedge at 0x10942f650>,\n",
        "  <matplotlib.patches.Wedge at 0x10942ffd0>],\n",
        " [<matplotlib.text.Text at 0x109424850>,\n",
        "  <matplotlib.text.Text at 0x10942f290>,\n",
        "  <matplotlib.text.Text at 0x10942fc10>,\n",
        "  <matplotlib.text.Text at 0x10943c5d0>])"
       ]
      },
      {
       "metadata": {},
       "output_type": "display_data",
       "png": "[encoded data removed]",
       "text": [
        "<matplotlib.figure.Figure at 0x109060190>"
       ]
      }
     ],
     "prompt_number": 48
    },
    {
     "cell_type": "code",
     "collapsed": false,
     "input": [
      "jdata = pd.read_json(\"pokemons.json\")\n",
      "jdata.plot(kind=\"bar\")"
     ],
     "language": "python",
     "metadata": {},
     "outputs": [
      {
       "metadata": {},
       "output_type": "pyout",
       "prompt_number": 51,
       "text": [
        "<matplotlib.axes.AxesSubplot at 0x109567d10>"
       ]
      },
      {
       "metadata": {},
       "output_type": "display_data",
       "png": "[encoded data removed]",
       "text": [
        "<matplotlib.figure.Figure at 0x108d44390>"
       ]
      }
     ],
     "prompt_number": 51
    },
    {
     "cell_type": "code",
     "collapsed": false,
     "input": [
      "jdata.plot(kind=\"area\", stacked=False)"
     ],
     "language": "python",
     "metadata": {},
     "outputs": [
      {
       "metadata": {},
       "output_type": "pyout",
       "prompt_number": 53,
       "text": [
        "<matplotlib.axes.AxesSubplot at 0x109957090>"
       ]
      },
      {
       "metadata": {},
       "output_type": "display_data",
       "png": "[encoded data removed]",
       "text": [
        "<matplotlib.figure.Figure at 0x109782350>"
       ]
      }
     ],
     "prompt_number": 53
    },
    {
     "cell_type": "code",
     "collapsed": false,
     "input": [
      "plt.pie(jdata[\"amount\"], labels= jdata[\"type\"])"
     ],
     "language": "python",
     "metadata": {},
     "outputs": [
      {
       "metadata": {},
       "output_type": "pyout",
       "prompt_number": 55,
       "text": [
        "([<matplotlib.patches.Wedge at 0x109ec2a50>,\n",
        "  <matplotlib.patches.Wedge at 0x109ed03d0>,\n",
        "  <matplotlib.patches.Wedge at 0x109ed0d50>,\n",
        "  <matplotlib.patches.Wedge at 0x109edc710>,\n",
        "  <matplotlib.patches.Wedge at 0x109ee80d0>,\n",
        "  <matplotlib.patches.Wedge at 0x109ee8a50>,\n",
        "  <matplotlib.patches.Wedge at 0x109ef3410>,\n",
        "  <matplotlib.patches.Wedge at 0x109ef3d90>,\n",
        "  <matplotlib.patches.Wedge at 0x109f00750>,\n",
        "  <matplotlib.patches.Wedge at 0x109f0c110>,\n",
        "  <matplotlib.patches.Wedge at 0x109f0ca90>,\n",
        "  <matplotlib.patches.Wedge at 0x109f17450>,\n",
        "  <matplotlib.patches.Wedge at 0x109f17dd0>,\n",
        "  <matplotlib.patches.Wedge at 0x109f24790>,\n",
        "  <matplotlib.patches.Wedge at 0x109f30150>,\n",
        "  <matplotlib.patches.Wedge at 0x109f30ad0>],\n",
        " [<matplotlib.text.Text at 0x109ec2f90>,\n",
        "  <matplotlib.text.Text at 0x109ed0990>,\n",
        "  <matplotlib.text.Text at 0x109edc350>,\n",
        "  <matplotlib.text.Text at 0x109edccd0>,\n",
        "  <matplotlib.text.Text at 0x109ee8690>,\n",
        "  <matplotlib.text.Text at 0x109ee8f50>,\n",
        "  <matplotlib.text.Text at 0x109ef39d0>,\n",
        "  <matplotlib.text.Text at 0x109f00390>,\n",
        "  <matplotlib.text.Text at 0x109f00d10>,\n",
        "  <matplotlib.text.Text at 0x109f0c6d0>,\n",
        "  <matplotlib.text.Text at 0x109f0cf90>,\n",
        "  <matplotlib.text.Text at 0x109f17a10>,\n",
        "  <matplotlib.text.Text at 0x109f243d0>,\n",
        "  <matplotlib.text.Text at 0x109f24d50>,\n",
        "  <matplotlib.text.Text at 0x109f30710>,\n",
        "  <matplotlib.text.Text at 0x109f30fd0>])"
       ]
      },
      {
       "metadata": {},
       "output_type": "display_data",
       "png": "[encoded data removed]",
       "text": [
        "<matplotlib.figure.Figure at 0x109cddb10>"
       ]
      }
     ],
     "prompt_number": 55
    },
    {
     "cell_type": "code",
     "collapsed": false,
     "input": [
      "iris = pd.read_csv(\"iris.csv\")\n",
      "iris.describe()"
     ],
     "language": "python",
     "metadata": {},
     "outputs": [
      {
       "html": [
        "<div style=\"max-height:1000px;max-width:1500px;overflow:auto;\">\n",
        "<table border=\"1\" class=\"dataframe\">\n",
        "  <thead>\n",
        "    <tr style=\"text-align: right;\">\n",
        "      <th></th>\n",
        "      <th>SepalLength</th>\n",
        "      <th>SepalWidth</th>\n",
        "      <th>PetalLength</th>\n",
        "      <th>PetalWidth</th>\n",
        "    </tr>\n",
        "  </thead>\n",
        "  <tbody>\n",
        "    <tr>\n",
        "      <th>count</th>\n",
        "      <td> 150.000000</td>\n",
        "      <td> 150.000000</td>\n",
        "      <td> 150.000000</td>\n",
        "      <td> 150.000000</td>\n",
        "    </tr>\n",
        "    <tr>\n",
        "      <th>mean</th>\n",
        "      <td>   5.843333</td>\n",
        "      <td>   3.057333</td>\n",
        "      <td>   3.758000</td>\n",
        "      <td>   1.199333</td>\n",
        "    </tr>\n",
        "    <tr>\n",
        "      <th>std</th>\n",
        "      <td>   0.828066</td>\n",
        "      <td>   0.435866</td>\n",
        "      <td>   1.765298</td>\n",
        "      <td>   0.762238</td>\n",
        "    </tr>\n",
        "    <tr>\n",
        "      <th>min</th>\n",
        "      <td>   4.300000</td>\n",
        "      <td>   2.000000</td>\n",
        "      <td>   1.000000</td>\n",
        "      <td>   0.100000</td>\n",
        "    </tr>\n",
        "    <tr>\n",
        "      <th>25%</th>\n",
        "      <td>   5.100000</td>\n",
        "      <td>   2.800000</td>\n",
        "      <td>   1.600000</td>\n",
        "      <td>   0.300000</td>\n",
        "    </tr>\n",
        "    <tr>\n",
        "      <th>50%</th>\n",
        "      <td>   5.800000</td>\n",
        "      <td>   3.000000</td>\n",
        "      <td>   4.350000</td>\n",
        "      <td>   1.300000</td>\n",
        "    </tr>\n",
        "    <tr>\n",
        "      <th>75%</th>\n",
        "      <td>   6.400000</td>\n",
        "      <td>   3.300000</td>\n",
        "      <td>   5.100000</td>\n",
        "      <td>   1.800000</td>\n",
        "    </tr>\n",
        "    <tr>\n",
        "      <th>max</th>\n",
        "      <td>   7.900000</td>\n",
        "      <td>   4.400000</td>\n",
        "      <td>   6.900000</td>\n",
        "      <td>   2.500000</td>\n",
        "    </tr>\n",
        "  </tbody>\n",
        "</table>\n",
        "</div>"
       ],
       "metadata": {},
       "output_type": "pyout",
       "prompt_number": 56,
       "text": [
        "       SepalLength  SepalWidth  PetalLength  PetalWidth\n",
        "count   150.000000  150.000000   150.000000  150.000000\n",
        "mean      5.843333    3.057333     3.758000    1.199333\n",
        "std       0.828066    0.435866     1.765298    0.762238\n",
        "min       4.300000    2.000000     1.000000    0.100000\n",
        "25%       5.100000    2.800000     1.600000    0.300000\n",
        "50%       5.800000    3.000000     4.350000    1.300000\n",
        "75%       6.400000    3.300000     5.100000    1.800000\n",
        "max       7.900000    4.400000     6.900000    2.500000"
       ]
      }
     ],
     "prompt_number": 56
    },
    {
     "cell_type": "code",
     "collapsed": false,
     "input": [
      "pd.tools.plotting.radviz(iris,\"name\")"
     ],
     "language": "python",
     "metadata": {},
     "outputs": [
      {
       "metadata": {},
       "output_type": "pyout",
       "prompt_number": 57,
       "text": [
        "<matplotlib.axes.AxesSubplot at 0x109e7b250>"
       ]
      },
      {
       "metadata": {},
       "output_type": "display_data",
       "png": "[encoded data removed]",
       "text": [
        "<matplotlib.figure.Figure at 0x109c7f4d0>"
       ]
      }
     ],
     "prompt_number": 57
    },
    {
     "cell_type": "code",
     "collapsed": false,
     "input": [
      "pd.tools.plotting.andrews_curves(iris,\"name\", colormap=\"winter\")"
     ],
     "language": "python",
     "metadata": {},
     "outputs": [
      {
       "metadata": {},
       "output_type": "pyout",
       "prompt_number": 59,
       "text": [
        "<matplotlib.axes.AxesSubplot at 0x10a7dd210>"
       ]
      },
      {
       "metadata": {},
       "output_type": "display_data",
       "png": "[encoded data removed]",
       "text": [
        "<matplotlib.figure.Figure at 0x10a7f7410>"
       ]
      }
     ],
     "prompt_number": 59
    },
    {
     "cell_type": "code",
     "collapsed": false,
     "input": [
      "iris.groupby(\"name\").min()"
     ],
     "language": "python",
     "metadata": {},
     "outputs": [
      {
       "html": [
        "<div style=\"max-height:1000px;max-width:1500px;overflow:auto;\">\n",
        "<table border=\"1\" class=\"dataframe\">\n",
        "  <thead>\n",
        "    <tr style=\"text-align: right;\">\n",
        "      <th></th>\n",
        "      <th>SepalLength</th>\n",
        "      <th>SepalWidth</th>\n",
        "      <th>PetalLength</th>\n",
        "      <th>PetalWidth</th>\n",
        "    </tr>\n",
        "    <tr>\n",
        "      <th>name</th>\n",
        "      <th></th>\n",
        "      <th></th>\n",
        "      <th></th>\n",
        "      <th></th>\n",
        "    </tr>\n",
        "  </thead>\n",
        "  <tbody>\n",
        "    <tr>\n",
        "      <th>setosa</th>\n",
        "      <td> 4.3</td>\n",
        "      <td> 2.3</td>\n",
        "      <td> 1.0</td>\n",
        "      <td> 0.1</td>\n",
        "    </tr>\n",
        "    <tr>\n",
        "      <th>versicolor</th>\n",
        "      <td> 4.9</td>\n",
        "      <td> 2.0</td>\n",
        "      <td> 3.0</td>\n",
        "      <td> 1.0</td>\n",
        "    </tr>\n",
        "    <tr>\n",
        "      <th>virginica</th>\n",
        "      <td> 4.9</td>\n",
        "      <td> 2.2</td>\n",
        "      <td> 4.5</td>\n",
        "      <td> 1.4</td>\n",
        "    </tr>\n",
        "  </tbody>\n",
        "</table>\n",
        "</div>"
       ],
       "metadata": {},
       "output_type": "pyout",
       "prompt_number": 63,
       "text": [
        "            SepalLength  SepalWidth  PetalLength  PetalWidth\n",
        "name                                                        \n",
        "setosa              4.3         2.3          1.0         0.1\n",
        "versicolor          4.9         2.0          3.0         1.0\n",
        "virginica           4.9         2.2          4.5         1.4"
       ]
      }
     ],
     "prompt_number": 63
    },
    {
     "cell_type": "code",
     "collapsed": false,
     "input": [
      "iris.groupby(\"name\").describe()"
     ],
     "language": "python",
     "metadata": {},
     "outputs": [
      {
       "html": [
        "<div style=\"max-height:1000px;max-width:1500px;overflow:auto;\">\n",
        "<table border=\"1\" class=\"dataframe\">\n",
        "  <thead>\n",
        "    <tr style=\"text-align: right;\">\n",
        "      <th></th>\n",
        "      <th></th>\n",
        "      <th>PetalLength</th>\n",
        "      <th>PetalWidth</th>\n",
        "      <th>SepalLength</th>\n",
        "      <th>SepalWidth</th>\n",
        "    </tr>\n",
        "    <tr>\n",
        "      <th>name</th>\n",
        "      <th></th>\n",
        "      <th></th>\n",
        "      <th></th>\n",
        "      <th></th>\n",
        "      <th></th>\n",
        "    </tr>\n",
        "  </thead>\n",
        "  <tbody>\n",
        "    <tr>\n",
        "      <th rowspan=\"8\" valign=\"top\">setosa</th>\n",
        "      <th>count</th>\n",
        "      <td> 50.000000</td>\n",
        "      <td> 50.000000</td>\n",
        "      <td> 50.000000</td>\n",
        "      <td> 50.000000</td>\n",
        "    </tr>\n",
        "    <tr>\n",
        "      <th>mean</th>\n",
        "      <td>  1.462000</td>\n",
        "      <td>  0.246000</td>\n",
        "      <td>  5.006000</td>\n",
        "      <td>  3.428000</td>\n",
        "    </tr>\n",
        "    <tr>\n",
        "      <th>std</th>\n",
        "      <td>  0.173664</td>\n",
        "      <td>  0.105386</td>\n",
        "      <td>  0.352490</td>\n",
        "      <td>  0.379064</td>\n",
        "    </tr>\n",
        "    <tr>\n",
        "      <th>min</th>\n",
        "      <td>  1.000000</td>\n",
        "      <td>  0.100000</td>\n",
        "      <td>  4.300000</td>\n",
        "      <td>  2.300000</td>\n",
        "    </tr>\n",
        "    <tr>\n",
        "      <th>25%</th>\n",
        "      <td>  1.400000</td>\n",
        "      <td>  0.200000</td>\n",
        "      <td>  4.800000</td>\n",
        "      <td>  3.200000</td>\n",
        "    </tr>\n",
        "    <tr>\n",
        "      <th>50%</th>\n",
        "      <td>  1.500000</td>\n",
        "      <td>  0.200000</td>\n",
        "      <td>  5.000000</td>\n",
        "      <td>  3.400000</td>\n",
        "    </tr>\n",
        "    <tr>\n",
        "      <th>75%</th>\n",
        "      <td>  1.575000</td>\n",
        "      <td>  0.300000</td>\n",
        "      <td>  5.200000</td>\n",
        "      <td>  3.675000</td>\n",
        "    </tr>\n",
        "    <tr>\n",
        "      <th>max</th>\n",
        "      <td>  1.900000</td>\n",
        "      <td>  0.600000</td>\n",
        "      <td>  5.800000</td>\n",
        "      <td>  4.400000</td>\n",
        "    </tr>\n",
        "    <tr>\n",
        "      <th rowspan=\"8\" valign=\"top\">versicolor</th>\n",
        "      <th>count</th>\n",
        "      <td> 50.000000</td>\n",
        "      <td> 50.000000</td>\n",
        "      <td> 50.000000</td>\n",
        "      <td> 50.000000</td>\n",
        "    </tr>\n",
        "    <tr>\n",
        "      <th>mean</th>\n",
        "      <td>  4.260000</td>\n",
        "      <td>  1.326000</td>\n",
        "      <td>  5.936000</td>\n",
        "      <td>  2.770000</td>\n",
        "    </tr>\n",
        "    <tr>\n",
        "      <th>std</th>\n",
        "      <td>  0.469911</td>\n",
        "      <td>  0.197753</td>\n",
        "      <td>  0.516171</td>\n",
        "      <td>  0.313798</td>\n",
        "    </tr>\n",
        "    <tr>\n",
        "      <th>min</th>\n",
        "      <td>  3.000000</td>\n",
        "      <td>  1.000000</td>\n",
        "      <td>  4.900000</td>\n",
        "      <td>  2.000000</td>\n",
        "    </tr>\n",
        "    <tr>\n",
        "      <th>25%</th>\n",
        "      <td>  4.000000</td>\n",
        "      <td>  1.200000</td>\n",
        "      <td>  5.600000</td>\n",
        "      <td>  2.525000</td>\n",
        "    </tr>\n",
        "    <tr>\n",
        "      <th>50%</th>\n",
        "      <td>  4.350000</td>\n",
        "      <td>  1.300000</td>\n",
        "      <td>  5.900000</td>\n",
        "      <td>  2.800000</td>\n",
        "    </tr>\n",
        "    <tr>\n",
        "      <th>75%</th>\n",
        "      <td>  4.600000</td>\n",
        "      <td>  1.500000</td>\n",
        "      <td>  6.300000</td>\n",
        "      <td>  3.000000</td>\n",
        "    </tr>\n",
        "    <tr>\n",
        "      <th>max</th>\n",
        "      <td>  5.100000</td>\n",
        "      <td>  1.800000</td>\n",
        "      <td>  7.000000</td>\n",
        "      <td>  3.400000</td>\n",
        "    </tr>\n",
        "    <tr>\n",
        "      <th rowspan=\"8\" valign=\"top\">virginica</th>\n",
        "      <th>count</th>\n",
        "      <td> 50.000000</td>\n",
        "      <td> 50.000000</td>\n",
        "      <td> 50.000000</td>\n",
        "      <td> 50.000000</td>\n",
        "    </tr>\n",
        "    <tr>\n",
        "      <th>mean</th>\n",
        "      <td>  5.552000</td>\n",
        "      <td>  2.026000</td>\n",
        "      <td>  6.588000</td>\n",
        "      <td>  2.974000</td>\n",
        "    </tr>\n",
        "    <tr>\n",
        "      <th>std</th>\n",
        "      <td>  0.551895</td>\n",
        "      <td>  0.274650</td>\n",
        "      <td>  0.635880</td>\n",
        "      <td>  0.322497</td>\n",
        "    </tr>\n",
        "    <tr>\n",
        "      <th>min</th>\n",
        "      <td>  4.500000</td>\n",
        "      <td>  1.400000</td>\n",
        "      <td>  4.900000</td>\n",
        "      <td>  2.200000</td>\n",
        "    </tr>\n",
        "    <tr>\n",
        "      <th>25%</th>\n",
        "      <td>  5.100000</td>\n",
        "      <td>  1.800000</td>\n",
        "      <td>  6.225000</td>\n",
        "      <td>  2.800000</td>\n",
        "    </tr>\n",
        "    <tr>\n",
        "      <th>50%</th>\n",
        "      <td>  5.550000</td>\n",
        "      <td>  2.000000</td>\n",
        "      <td>  6.500000</td>\n",
        "      <td>  3.000000</td>\n",
        "    </tr>\n",
        "    <tr>\n",
        "      <th>75%</th>\n",
        "      <td>  5.875000</td>\n",
        "      <td>  2.300000</td>\n",
        "      <td>  6.900000</td>\n",
        "      <td>  3.175000</td>\n",
        "    </tr>\n",
        "    <tr>\n",
        "      <th>max</th>\n",
        "      <td>  6.900000</td>\n",
        "      <td>  2.500000</td>\n",
        "      <td>  7.900000</td>\n",
        "      <td>  3.800000</td>\n",
        "    </tr>\n",
        "  </tbody>\n",
        "</table>\n",
        "</div>"
       ],
       "metadata": {},
       "output_type": "pyout",
       "prompt_number": 64,
       "text": [
        "                  PetalLength  PetalWidth  SepalLength  SepalWidth\n",
        "name                                                              \n",
        "setosa     count    50.000000   50.000000    50.000000   50.000000\n",
        "           mean      1.462000    0.246000     5.006000    3.428000\n",
        "           std       0.173664    0.105386     0.352490    0.379064\n",
        "           min       1.000000    0.100000     4.300000    2.300000\n",
        "           25%       1.400000    0.200000     4.800000    3.200000\n",
        "           50%       1.500000    0.200000     5.000000    3.400000\n",
        "           75%       1.575000    0.300000     5.200000    3.675000\n",
        "           max       1.900000    0.600000     5.800000    4.400000\n",
        "versicolor count    50.000000   50.000000    50.000000   50.000000\n",
        "           mean      4.260000    1.326000     5.936000    2.770000\n",
        "           std       0.469911    0.197753     0.516171    0.313798\n",
        "           min       3.000000    1.000000     4.900000    2.000000\n",
        "           25%       4.000000    1.200000     5.600000    2.525000\n",
        "           50%       4.350000    1.300000     5.900000    2.800000\n",
        "           75%       4.600000    1.500000     6.300000    3.000000\n",
        "           max       5.100000    1.800000     7.000000    3.400000\n",
        "virginica  count    50.000000   50.000000    50.000000   50.000000\n",
        "           mean      5.552000    2.026000     6.588000    2.974000\n",
        "           std       0.551895    0.274650     0.635880    0.322497\n",
        "           min       4.500000    1.400000     4.900000    2.200000\n",
        "           25%       5.100000    1.800000     6.225000    2.800000\n",
        "           50%       5.550000    2.000000     6.500000    3.000000\n",
        "           75%       5.875000    2.300000     6.900000    3.175000\n",
        "           max       6.900000    2.500000     7.900000    3.800000"
       ]
      }
     ],
     "prompt_number": 64
    },
    {
     "cell_type": "code",
     "collapsed": false,
     "input": [
      "iris.corr()"
     ],
     "language": "python",
     "metadata": {},
     "outputs": [
      {
       "html": [
        "<div style=\"max-height:1000px;max-width:1500px;overflow:auto;\">\n",
        "<table border=\"1\" class=\"dataframe\">\n",
        "  <thead>\n",
        "    <tr style=\"text-align: right;\">\n",
        "      <th></th>\n",
        "      <th>SepalLength</th>\n",
        "      <th>SepalWidth</th>\n",
        "      <th>PetalLength</th>\n",
        "      <th>PetalWidth</th>\n",
        "    </tr>\n",
        "  </thead>\n",
        "  <tbody>\n",
        "    <tr>\n",
        "      <th>SepalLength</th>\n",
        "      <td> 1.000000</td>\n",
        "      <td>-0.117570</td>\n",
        "      <td> 0.871754</td>\n",
        "      <td> 0.817941</td>\n",
        "    </tr>\n",
        "    <tr>\n",
        "      <th>SepalWidth</th>\n",
        "      <td>-0.117570</td>\n",
        "      <td> 1.000000</td>\n",
        "      <td>-0.428440</td>\n",
        "      <td>-0.366126</td>\n",
        "    </tr>\n",
        "    <tr>\n",
        "      <th>PetalLength</th>\n",
        "      <td> 0.871754</td>\n",
        "      <td>-0.428440</td>\n",
        "      <td> 1.000000</td>\n",
        "      <td> 0.962865</td>\n",
        "    </tr>\n",
        "    <tr>\n",
        "      <th>PetalWidth</th>\n",
        "      <td> 0.817941</td>\n",
        "      <td>-0.366126</td>\n",
        "      <td> 0.962865</td>\n",
        "      <td> 1.000000</td>\n",
        "    </tr>\n",
        "  </tbody>\n",
        "</table>\n",
        "</div>"
       ],
       "metadata": {},
       "output_type": "pyout",
       "prompt_number": 65,
       "text": [
        "             SepalLength  SepalWidth  PetalLength  PetalWidth\n",
        "SepalLength     1.000000   -0.117570     0.871754    0.817941\n",
        "SepalWidth     -0.117570    1.000000    -0.428440   -0.366126\n",
        "PetalLength     0.871754   -0.428440     1.000000    0.962865\n",
        "PetalWidth      0.817941   -0.366126     0.962865    1.000000"
       ]
      }
     ],
     "prompt_number": 65
    },
    {
     "cell_type": "code",
     "collapsed": false,
     "input": [
      "iris[\"SepalLength\"].corr(iris[\"PetalLength\"])"
     ],
     "language": "python",
     "metadata": {},
     "outputs": [
      {
       "metadata": {},
       "output_type": "pyout",
       "prompt_number": 67,
       "text": [
        "0.87175377588658343"
       ]
      }
     ],
     "prompt_number": 67
    },
    {
     "cell_type": "code",
     "collapsed": false,
     "input": [
      "iris[:10].plot(kind=\"bar\", colormap=\"Greens\")"
     ],
     "language": "python",
     "metadata": {},
     "outputs": [
      {
       "metadata": {},
       "output_type": "pyout",
       "prompt_number": 70,
       "text": [
        "<matplotlib.axes.AxesSubplot at 0x10cfeaa50>"
       ]
      },
      {
       "metadata": {},
       "output_type": "display_data",
       "png": "[encoded data removed]",
       "text": [
        "<matplotlib.figure.Figure at 0x10cbbedd0>"
       ]
      }
     ],
     "prompt_number": 70
    },
    {
     "cell_type": "code",
     "collapsed": false,
     "input": [
      "n = 100\n",
      "X = np.random.normal(0,1,n)\n",
      "Y = np.random.normal(0,1,n)\n",
      "plt.plot(X,Y,\"ro\")"
     ],
     "language": "python",
     "metadata": {},
     "outputs": [
      {
       "metadata": {},
       "output_type": "pyout",
       "prompt_number": 71,
       "text": [
        "[<matplotlib.lines.Line2D at 0x10edd5950>]"
       ]
      },
      {
       "metadata": {},
       "output_type": "display_data",
       "png": "[encoded data removed]",
       "text": [
        "<matplotlib.figure.Figure at 0x10dec00d0>"
       ]
      }
     ],
     "prompt_number": 71
    },
    {
     "cell_type": "code",
     "collapsed": false,
     "input": [
      "casa = pd.read_csv(\"house.csv\")\n",
      "casa"
     ],
     "language": "python",
     "metadata": {},
     "outputs": [
      {
       "html": [
        "<div style=\"max-height:1000px;max-width:1500px;overflow:auto;\">\n",
        "<table border=\"1\" class=\"dataframe\">\n",
        "  <thead>\n",
        "    <tr style=\"text-align: right;\">\n",
        "      <th></th>\n",
        "      <th>size</th>\n",
        "      <th>land</th>\n",
        "      <th>rooms</th>\n",
        "      <th>granite</th>\n",
        "      <th>extra_bathroom</th>\n",
        "      <th>price</th>\n",
        "    </tr>\n",
        "  </thead>\n",
        "  <tbody>\n",
        "    <tr>\n",
        "      <th>0</th>\n",
        "      <td> 1076</td>\n",
        "      <td> 2801</td>\n",
        "      <td> 6</td>\n",
        "      <td> 0</td>\n",
        "      <td> 0</td>\n",
        "      <td> 324500</td>\n",
        "    </tr>\n",
        "    <tr>\n",
        "      <th>1</th>\n",
        "      <td>  990</td>\n",
        "      <td> 3067</td>\n",
        "      <td> 5</td>\n",
        "      <td> 1</td>\n",
        "      <td> 1</td>\n",
        "      <td> 466000</td>\n",
        "    </tr>\n",
        "    <tr>\n",
        "      <th>2</th>\n",
        "      <td> 1229</td>\n",
        "      <td> 3094</td>\n",
        "      <td> 5</td>\n",
        "      <td> 0</td>\n",
        "      <td> 1</td>\n",
        "      <td> 425900</td>\n",
        "    </tr>\n",
        "    <tr>\n",
        "      <th>3</th>\n",
        "      <td>  731</td>\n",
        "      <td> 4315</td>\n",
        "      <td> 4</td>\n",
        "      <td> 1</td>\n",
        "      <td> 0</td>\n",
        "      <td> 387120</td>\n",
        "    </tr>\n",
        "    <tr>\n",
        "      <th>4</th>\n",
        "      <td>  671</td>\n",
        "      <td> 2926</td>\n",
        "      <td> 4</td>\n",
        "      <td> 0</td>\n",
        "      <td> 1</td>\n",
        "      <td> 312100</td>\n",
        "    </tr>\n",
        "    <tr>\n",
        "      <th>5</th>\n",
        "      <td> 1078</td>\n",
        "      <td> 6094</td>\n",
        "      <td> 6</td>\n",
        "      <td> 1</td>\n",
        "      <td> 1</td>\n",
        "      <td> 603000</td>\n",
        "    </tr>\n",
        "    <tr>\n",
        "      <th>6</th>\n",
        "      <td>  909</td>\n",
        "      <td> 2854</td>\n",
        "      <td> 5</td>\n",
        "      <td> 0</td>\n",
        "      <td> 1</td>\n",
        "      <td> 383400</td>\n",
        "    </tr>\n",
        "  </tbody>\n",
        "</table>\n",
        "</div>"
       ],
       "metadata": {},
       "output_type": "pyout",
       "prompt_number": 72,
       "text": [
        "   size  land  rooms  granite  extra_bathroom   price\n",
        "0  1076  2801      6        0               0  324500\n",
        "1   990  3067      5        1               1  466000\n",
        "2  1229  3094      5        0               1  425900\n",
        "3   731  4315      4        1               0  387120\n",
        "4   671  2926      4        0               1  312100\n",
        "5  1078  6094      6        1               1  603000\n",
        "6   909  2854      5        0               1  383400"
       ]
      }
     ],
     "prompt_number": 72
    },
    {
     "cell_type": "code",
     "collapsed": false,
     "input": [
      "plt.plot(casa[\"size\"],casa[\"price\"],\"ro\", color=\"blue\")"
     ],
     "language": "python",
     "metadata": {},
     "outputs": [
      {
       "metadata": {},
       "output_type": "pyout",
       "prompt_number": 77,
       "text": [
        "[<matplotlib.lines.Line2D at 0x10fa4a410>]"
       ]
      },
      {
       "metadata": {},
       "output_type": "display_data",
       "png": "[encoded data removed]",
       "text": [
        "<matplotlib.figure.Figure at 0x10e9091d0>"
       ]
      }
     ],
     "prompt_number": 77
    },
    {
     "cell_type": "code",
     "collapsed": false,
     "input": [],
     "language": "python",
     "metadata": {},
     "outputs": []
    }
   ],
   "metadata": {}
  }
 ]
}