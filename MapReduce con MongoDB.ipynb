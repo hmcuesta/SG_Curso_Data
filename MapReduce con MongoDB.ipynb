{
 "metadata": {
  "name": "",
  "signature": "sha256:c3aaa86029f2c717d8dde9ded030edd14da1de817e50493d8e92423a40a5dc66"
 },
 "nbformat": 3,
 "nbformat_minor": 0,
 "worksheets": [
  {
   "cells": [
    {
     "cell_type": "code",
     "collapsed": false,
     "input": [
      "from bson.code import Code\n",
      "from pymongo import MongoClient\n",
      "\n",
      "con = MongoClient()\n",
      "db = con.baseball\n",
      "juegos = db.games\n",
      "\n",
      "map = Code(\"\"\"function(){\n",
      "                   emit(this.player, 1);\n",
      "              }\"\"\")\n",
      "\n",
      "reduce = Code(\"\"\"function(key, values) { \n",
      "                 var res = 0;\n",
      "                 values.forEach(function(v){ res += 1})\n",
      "                 return {count: res}; \n",
      "              }\"\"\")\n",
      "\n",
      "result = juegos.map_reduce(map,reduce,\"count_juegos\", full_response=True)\n",
      "\n",
      "print(result)\n",
      "for doc in db.count_juegos.find():\n",
      "    print(doc)"
     ],
     "language": "python",
     "metadata": {},
     "outputs": [
      {
       "output_type": "stream",
       "stream": "stdout",
       "text": [
        "{u'counts': {u'input': 100, u'reduce': 10, u'emit': 100, u'output': 10}, u'timeMillis': 159, u'ok': 1.0, u'result': u'count_juegos'}\n",
        "{u'_id': u'Allen Iverson', u'value': {u'count': 12.0}}\n",
        "{u'_id': u'Carmelo Anthony', u'value': {u'count': 8.0}}\n",
        "{u'_id': u'Dominique Wilkins', u'value': {u'count': 3.0}}\n",
        "{u'_id': u'Dwyane Wade', u'value': {u'count': 14.0}}\n",
        "{u'_id': u'George Gervin', u'value': {u'count': 12.0}}\n",
        "{u'_id': u'Jerry West', u'value': {u'count': 11.0}}\n",
        "{u'_id': u'Kobe Bryant', u'value': {u'count': 7.0}}\n",
        "{u'_id': u'LeBron James', u'value': {u'count': 11.0}}\n",
        "{u'_id': u'Pete Maravich', u'value': {u'count': 13.0}}\n",
        "{u'_id': u'Rick Barry', u'value': {u'count': 9.0}}\n"
       ]
      }
     ],
     "prompt_number": 5
    },
    {
     "cell_type": "code",
     "collapsed": false,
     "input": [],
     "language": "python",
     "metadata": {},
     "outputs": []
    }
   ],
   "metadata": {}
  }
 ]
}