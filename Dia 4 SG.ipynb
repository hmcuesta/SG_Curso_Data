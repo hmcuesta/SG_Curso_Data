{
 "metadata": {
  "name": "",
  "signature": "sha256:2a43c75f4cc1ed9e14db67dd1322f5778f0411ce723e5cd90905d5b7d30edaf5"
 },
 "nbformat": 3,
 "nbformat_minor": 0,
 "worksheets": [
  {
   "cells": [
    {
     "cell_type": "code",
     "collapsed": false,
     "input": [
      "!pip install pymongo"
     ],
     "language": "python",
     "metadata": {},
     "outputs": [
      {
       "output_type": "stream",
       "stream": "stdout",
       "text": [
        "Requirement already satisfied (use --upgrade to upgrade): pymongo in /anaconda/lib/python2.7/site-packages\r\n",
        "Cleaning up...\r\n"
       ]
      }
     ],
     "prompt_number": 1
    },
    {
     "cell_type": "code",
     "collapsed": false,
     "input": [
      "from pymongo import MongoClient\n",
      "con = MongoClient()\n",
      "db = con.sgcampus"
     ],
     "language": "python",
     "metadata": {},
     "outputs": [],
     "prompt_number": 2
    },
    {
     "cell_type": "code",
     "collapsed": false,
     "input": [
      "nombre = db.participantes.find()\n",
      "for nom in nombre:\n",
      "    print nom[\"nombre\"]"
     ],
     "language": "python",
     "metadata": {},
     "outputs": [
      {
       "output_type": "stream",
       "stream": "stdout",
       "text": [
        "Adrian\n",
        "Ezequiel\n",
        "Luis\n",
        "Luis\n"
       ]
      }
     ],
     "prompt_number": 8
    },
    {
     "cell_type": "code",
     "collapsed": false,
     "input": [
      "db.participantes.insert({\"nombre\":\"Luis\",\n",
      "                         \"profesion\":\"TCOM\",\n",
      "                         \"calificacion\":8})"
     ],
     "language": "python",
     "metadata": {},
     "outputs": [
      {
       "metadata": {},
       "output_type": "pyout",
       "prompt_number": 7,
       "text": [
        "ObjectId('53ffd45de5e92c0bd96da2db')"
       ]
      }
     ],
     "prompt_number": 7
    },
    {
     "cell_type": "code",
     "collapsed": false,
     "input": [
      "nombre = db.participantes.find({\"nombre\":\"Luis\"})\n",
      "for nom in nombre:\n",
      "    print nom"
     ],
     "language": "python",
     "metadata": {},
     "outputs": [
      {
       "output_type": "stream",
       "stream": "stdout",
       "text": [
        "{u'profesion': u'IT', u'nombre': u'Luis', u'_id': ObjectId('53ffd434e5e92c0bd96da2da'), u'calificacion': 10}\n",
        "{u'profesion': u'TCOM', u'nombre': u'Luis', u'_id': ObjectId('53ffd45de5e92c0bd96da2db'), u'calificacion': 8}\n"
       ]
      }
     ],
     "prompt_number": 10
    },
    {
     "cell_type": "code",
     "collapsed": false,
     "input": [
      "db.participantes.remove({\"nombre\":\"Adrian\"})"
     ],
     "language": "python",
     "metadata": {},
     "outputs": [
      {
       "metadata": {},
       "output_type": "pyout",
       "prompt_number": 11,
       "text": [
        "{u'n': 1, u'ok': 1}"
       ]
      }
     ],
     "prompt_number": 11
    },
    {
     "cell_type": "code",
     "collapsed": false,
     "input": [
      "db.participantes.count()"
     ],
     "language": "python",
     "metadata": {},
     "outputs": [
      {
       "metadata": {},
       "output_type": "pyout",
       "prompt_number": 12,
       "text": [
        "3"
       ]
      }
     ],
     "prompt_number": 12
    },
    {
     "cell_type": "code",
     "collapsed": false,
     "input": [
      "nombre = db.participantes.find({\"calificacion\":{\"$gte\":9}}).limit(1)\n",
      "for nom in nombre:\n",
      "    print nom"
     ],
     "language": "python",
     "metadata": {},
     "outputs": [
      {
       "output_type": "stream",
       "stream": "stdout",
       "text": [
        "{u'nombre': u'Ezequiel', u'_id': ObjectId('53ffd1d6ec123ef1ab77a2da'), u'calificacion': 9}\n"
       ]
      }
     ],
     "prompt_number": 15
    },
    {
     "cell_type": "code",
     "collapsed": false,
     "input": [
      "import random as ran\n",
      "db = con.basketball\n",
      "games = db.games\n",
      "\n",
      "\n",
      "players = [\"LeBron James\",\n",
      "           \"Allen Iverson\",\n",
      "           \"Kobe Bryant\",\n",
      "           \"Rick Barry\",\n",
      "           \"Dominique Wilkins\",\n",
      "           \"George Gervin\",\n",
      "           \"Dwyane Wade\",\n",
      "           \"Jerry West\",\n",
      "           \"Pete Maravich\",\n",
      "           \"Carmelo Anthony\"]\n",
      "\n",
      "\n",
      "for x in range(100):\n",
      "    games.insert({ \"player\" : players[ran.randint(0,9)],\n",
      "                   \"points\" : ran.randint(0,100)})"
     ],
     "language": "python",
     "metadata": {},
     "outputs": [],
     "prompt_number": 16
    },
    {
     "cell_type": "code",
     "collapsed": false,
     "input": [
      "puntos = games.aggregate({\"$group\":{\"_id\":\"$player\",\n",
      "                                    \"total\":{\"$sum\":\"$points\"},\n",
      "                                    \"promedio\":{\"$avg\":\"$points\"}\n",
      "                                    }\n",
      "                          })"
     ],
     "language": "python",
     "metadata": {},
     "outputs": [],
     "prompt_number": 20
    },
    {
     "cell_type": "code",
     "collapsed": false,
     "input": [
      "for doc in puntos[\"result\"]:\n",
      "    print doc"
     ],
     "language": "python",
     "metadata": {},
     "outputs": [
      {
       "output_type": "stream",
       "stream": "stdout",
       "text": [
        "{u'total': 300, u'promedio': 50.0, u'_id': u'Dwyane Wade'}\n",
        "{u'total': 481, u'promedio': 48.1, u'_id': u'Pete Maravich'}\n",
        "{u'total': 365, u'promedio': 36.5, u'_id': u'Rick Barry'}\n",
        "{u'total': 525, u'promedio': 65.625, u'_id': u'Dominique Wilkins'}\n",
        "{u'total': 656, u'promedio': 72.88888888888889, u'_id': u'Allen Iverson'}\n",
        "{u'total': 600, u'promedio': 66.66666666666667, u'_id': u'Kobe Bryant'}\n",
        "{u'total': 683, u'promedio': 48.785714285714285, u'_id': u'George Gervin'}\n",
        "{u'total': 692, u'promedio': 53.23076923076923, u'_id': u'LeBron James'}\n",
        "{u'total': 277, u'promedio': 30.77777777777778, u'_id': u'Carmelo Anthony'}\n",
        "{u'total': 584, u'promedio': 48.666666666666664, u'_id': u'Jerry West'}\n"
       ]
      }
     ],
     "prompt_number": 21
    },
    {
     "cell_type": "code",
     "collapsed": false,
     "input": [
      "import pandas as pd\n",
      "%matplotlib inline\n",
      "dta = pd.DataFrame(puntos[\"result\"])\n",
      "dta.plot(kind=\"bar\")"
     ],
     "language": "python",
     "metadata": {},
     "outputs": [
      {
       "metadata": {},
       "output_type": "pyout",
       "prompt_number": 23,
       "text": [
        "<matplotlib.axes.AxesSubplot at 0x10768de50>"
       ]
      },
      {
       "metadata": {},
       "output_type": "display_data",
       "png": "[encoded data removed]",
       "text": [
        "<matplotlib.figure.Figure at 0x1048e8610>"
       ]
      }
     ],
     "prompt_number": 23
    },
    {
     "cell_type": "code",
     "collapsed": false,
     "input": [
      "resultado = games.aggregate([\n",
      "                             {\"$match\":{\"points\":{\"$gt\":10,\"$lte\":80}}},\n",
      "                             {\"$group\":{\"_id\":\"$player\",\n",
      "                                        \"min\":{\"$min\":\"$points\"},\n",
      "                                        \"total\":{\"$sum\":\"$points\"},\n",
      "                                        \"promedio\":{\"$avg\":\"$points\"}\n",
      "                                        }\n",
      "                             }\n",
      "                            ])\n",
      "for doc in resultado[\"result\"]:\n",
      "    print doc"
     ],
     "language": "python",
     "metadata": {},
     "outputs": [
      {
       "output_type": "stream",
       "stream": "stdout",
       "text": [
        "{u'total': 261, u'promedio': 43.5, u'_id': u'Rick Barry', u'min': 13}\n",
        "{u'total': 161, u'promedio': 40.25, u'_id': u'Dominique Wilkins', u'min': 16}\n",
        "{u'total': 193, u'promedio': 64.33333333333333, u'_id': u'Dwyane Wade', u'min': 48}\n",
        "{u'total': 277, u'promedio': 69.25, u'_id': u'Pete Maravich', u'min': 57}\n",
        "{u'total': 276, u'promedio': 55.2, u'_id': u'Allen Iverson', u'min': 11}\n",
        "{u'total': 304, u'promedio': 50.666666666666664, u'_id': u'Jerry West', u'min': 23}\n",
        "{u'total': 409, u'promedio': 58.42857142857143, u'_id': u'Kobe Bryant', u'min': 36}\n",
        "{u'total': 486, u'promedio': 54.0, u'_id': u'George Gervin', u'min': 18}\n",
        "{u'total': 496, u'promedio': 62.0, u'_id': u'LeBron James', u'min': 42}\n",
        "{u'total': 179, u'promedio': 35.8, u'_id': u'Carmelo Anthony', u'min': 13}\n"
       ]
      }
     ],
     "prompt_number": 25
    },
    {
     "cell_type": "code",
     "collapsed": false,
     "input": [],
     "language": "python",
     "metadata": {},
     "outputs": []
    }
   ],
   "metadata": {}
  }
 ]
}