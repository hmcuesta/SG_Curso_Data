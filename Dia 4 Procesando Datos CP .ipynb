{
 "metadata": {
  "name": "",
  "signature": "sha256:e73d7d444eb7cec1f5b0c5b83c670d5adccbf7660d213baa8827e85560efa451"
 },
 "nbformat": 3,
 "nbformat_minor": 0,
 "worksheets": [
  {
   "cells": [
    {
     "cell_type": "code",
     "collapsed": false,
     "input": [
      "from pymongo import MongoClient\n",
      "con = MongoClient()\n",
      "db = con.codigos\n",
      "pais = db.mexico"
     ],
     "language": "python",
     "metadata": {},
     "outputs": [],
     "prompt_number": 1
    },
    {
     "cell_type": "code",
     "collapsed": false,
     "input": [
      "res = pais.aggregate([{\n",
      "                        \"$group\":{\"_id\":\"$d_estado\",\n",
      "                                  \"cantidad\":{\"$sum\":1}}\n",
      "                    }])\n",
      "for doc in res[\"result\"]:\n",
      "    print doc"
     ],
     "language": "python",
     "metadata": {},
     "outputs": [
      {
       "output_type": "stream",
       "stream": "stdout",
       "text": [
        "{u'_id': u'Coahuila de Zaragoza', u'cantidad': 1984}\n",
        "{u'_id': u'Campeche', u'cantidad': 1307}\n",
        "{u'_id': u'Baja California', u'cantidad': 2354}\n",
        "{u'_id': u'Baja California Sur', u'cantidad': 930}\n",
        "{u'_id': u'Aguascalientes', u'cantidad': 1336}\n",
        "{u'_id': u'Distrito Federal', u'cantidad': 2089}\n"
       ]
      }
     ],
     "prompt_number": 3
    },
    {
     "cell_type": "code",
     "collapsed": false,
     "input": [
      "from bson.code import Code\n",
      "\n",
      "map = Code(\"\"\"function(){\n",
      "                   emit(this.d_estado, 1);\n",
      "              }\"\"\")\n",
      "\n",
      "reduce = Code(\"\"\"function(key, values) { \n",
      "                 return Array.sum(values); \n",
      "              }\"\"\")\n",
      "mr = pais.map_reduce(map,reduce,\"cod_estado\", full_response=True)\n",
      "\n"
     ],
     "language": "python",
     "metadata": {},
     "outputs": [],
     "prompt_number": 4
    },
    {
     "cell_type": "code",
     "collapsed": false,
     "input": [
      "print mr"
     ],
     "language": "python",
     "metadata": {},
     "outputs": [
      {
       "output_type": "stream",
       "stream": "stdout",
       "text": [
        "{u'counts': {u'input': 10000, u'reduce': 105, u'emit': 10000, u'output': 6}, u'timeMillis': 259, u'ok': 1.0, u'result': u'cod_estado'}\n"
       ]
      }
     ],
     "prompt_number": 5
    },
    {
     "cell_type": "code",
     "collapsed": false,
     "input": [
      "like = pais.find({\"d_asenta\":{\"$regex\":\"Angel\"}})\n",
      "for x in like:\n",
      "    print x[\"d_asenta\"]\n",
      "    \n",
      "print like.count()"
     ],
     "language": "python",
     "metadata": {},
     "outputs": [
      {
       "output_type": "stream",
       "stream": "stdout",
       "text": [
        "San Angel\n",
        "San Angel Inn\n",
        "Lomas de los Angeles del Pueblo Tetelpan\n",
        "Angel Zimbron\n",
        "Insurgentes San Angel\n",
        "Los Angeles\n",
        "San Angel\n",
        "Terrazas de San Angel\n",
        "Colinas de San Angel\n",
        "San Angel\n",
        "Los Angeles\n",
        "San Angel\n",
        "Los Angeles\n",
        "Angel P\u00e9rez\n",
        "14\n"
       ]
      }
     ],
     "prompt_number": 7
    },
    {
     "cell_type": "code",
     "collapsed": false,
     "input": [
      "map = Code(\"\"\"function(){\n",
      "                if(this.d_asenta.match(/Angel/gi)){\n",
      "                   emit(this.d_estado, 1);\n",
      "                }\n",
      "                \n",
      "              }\"\"\")\n",
      "\n",
      "reduce = Code(\"\"\"function(key, values) { \n",
      "                 return Array.sum(values); \n",
      "              }\"\"\")\n",
      "mr = pais.map_reduce(map,reduce,\"cod_estado\", full_response=True)\n"
     ],
     "language": "python",
     "metadata": {},
     "outputs": [],
     "prompt_number": 8
    },
    {
     "cell_type": "code",
     "collapsed": false,
     "input": [
      "print mr"
     ],
     "language": "python",
     "metadata": {},
     "outputs": [
      {
       "output_type": "stream",
       "stream": "stdout",
       "text": [
        "{u'counts': {u'input': 10000, u'reduce': 3, u'emit': 14, u'output': 5}, u'timeMillis': 300, u'ok': 1.0, u'result': u'cod_estado'}\n"
       ]
      }
     ],
     "prompt_number": 9
    },
    {
     "cell_type": "code",
     "collapsed": false,
     "input": [],
     "language": "python",
     "metadata": {},
     "outputs": []
    }
   ],
   "metadata": {}
  }
 ]
}