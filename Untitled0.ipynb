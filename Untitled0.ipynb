{
 "metadata": {
  "name": "",
  "signature": "sha256:1b5e57c16489db879d2a4a8c2720be20fcd4fdbed116f46a156d47148064db5c"
 },
 "nbformat": 3,
 "nbformat_minor": 0,
 "worksheets": [
  {
   "cells": [
    {
     "cell_type": "code",
     "collapsed": false,
     "input": [
      "%pylab inline"
     ],
     "language": "python",
     "metadata": {},
     "outputs": [
      {
       "output_type": "stream",
       "stream": "stdout",
       "text": [
        "Populating the interactive namespace from numpy and matplotlib\n"
       ]
      }
     ],
     "prompt_number": 1
    },
    {
     "cell_type": "code",
     "collapsed": false,
     "input": [
      "from sklearn import datasets\n",
      "from sklearn.cross_validation import train_test_split\n",
      "from sklearn.naive_bayes import GaussianNB\n",
      "\n",
      "digitos = datasets.load_digits()"
     ],
     "language": "python",
     "metadata": {},
     "outputs": [],
     "prompt_number": 8
    },
    {
     "cell_type": "code",
     "collapsed": false,
     "input": [
      "t_X, p_X, t_Y, p_Y = train_test_split(digitos.data, \n",
      "                                      digitos.target, \n",
      "                                      test_size=0.33)"
     ],
     "language": "python",
     "metadata": {},
     "outputs": [],
     "prompt_number": 9
    },
    {
     "cell_type": "code",
     "collapsed": false,
     "input": [
      "estimador = GaussianNB()\n",
      "estimador.fit(t_X,t_Y)\n",
      "pred = estimador.predict(p_X)"
     ],
     "language": "python",
     "metadata": {},
     "outputs": [],
     "prompt_number": 11
    },
    {
     "cell_type": "code",
     "collapsed": false,
     "input": [
      "print \"predicho\", pred[0:8]\n",
      "print \"originales\", p_Y[0:8]"
     ],
     "language": "python",
     "metadata": {},
     "outputs": [
      {
       "output_type": "stream",
       "stream": "stdout",
       "text": [
        "predicho [3 5 9 6 0 0 4 0]\n",
        "originales [3 5 1 6 0 4 4 0]\n"
       ]
      }
     ],
     "prompt_number": 13
    },
    {
     "cell_type": "code",
     "collapsed": false,
     "input": [
      "#Regresion Lineal\n",
      "from sklearn import linear_model\n",
      "import matplotlib.pyplot as plt\n",
      "\n",
      "casas = datasets.load_boston()\n",
      "casas_X = casas.data[:,np.newaxis]\n",
      "casas_X_temp = casas_X[:, :,2]\n",
      "t_X, p_X, t_Y, p_Y = train_test_split(casas_X_temp, \n",
      "                                      casas.target, \n",
      "                                      test_size=0.33)\n",
      "linea  = linear_model.LinearRegression()\n",
      "linea.fit(t_X,t_Y)\n",
      "\n",
      "plt.scatter(p_X,p_Y, color=\"red\")\n",
      "plt.plot(p_X,linea.predict(p_X),color=\"blue\",linewidth=2)\n",
      "plt.show()\n"
     ],
     "language": "python",
     "metadata": {},
     "outputs": [
      {
       "metadata": {},
       "output_type": "display_data",
       "png": "[encoded data removed]",
       "text": [
        "<matplotlib.figure.Figure at 0x1085a9290>"
       ]
      }
     ],
     "prompt_number": 30
    },
    {
     "cell_type": "code",
     "collapsed": false,
     "input": [],
     "language": "python",
     "metadata": {},
     "outputs": []
    }
   ],
   "metadata": {}
  }
 ]
}